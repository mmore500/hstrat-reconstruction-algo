{
 "cells": [
  {
   "cell_type": "code",
   "execution_count": null,
   "metadata": {},
   "outputs": [],
   "source": [
    "%pip install teeplot\n",
    "from teeplot import teeplot as tp\n"
   ]
  },
  {
   "cell_type": "code",
   "execution_count": null,
   "metadata": {},
   "outputs": [],
   "source": [
    "import pandas as pd\n",
    "import matplotlib.pyplot as plt\n",
    "import seaborn as sns\n",
    "\n",
    "# OSF identifiers\n",
    "consolidating_trie_id = \"85nhu\"\n",
    "searchtable_id = \"6k5jn\"\n",
    "niave_trie_id = \"4egpc\"\n",
    "\n",
    "# Load CSV files into DataFrames directly from OSF URLs\n",
    "consolidating_trie_df = pd.read_csv(f\"https://osf.io/{consolidating_trie_id}/download\")\n",
    "searchtable_df = pd.read_csv(f\"https://osf.io/{searchtable_id}/download\")\n",
    "niave_trie_df = pd.read_csv(f\"https://osf.io/{niave_trie_id}/download\")\n",
    "\n",
    "# Add 'Type' column to each DataFrame, organizing\n",
    "consolidating_trie_df['Type'] = 'Consolidating Trie'\n",
    "searchtable_df['Type'] = 'Search Table'\n",
    "niave_trie_df['Type'] = 'Naive Trie'\n",
    "\n",
    "# Rename columns for consistency\n",
    "consolidating_trie_df.rename(columns={'Real Time (s)': 'run_time', 'CPU Time (s)': 'cpu_time', 'Selection Type': 'selection_type'}, inplace=True)\n",
    "searchtable_df.rename(columns={'Real Time (s)': 'run_time', 'CPU Time (s)': 'cpu_time', 'Selection Type': 'selection_type'}, inplace=True)\n",
    "niave_trie_df.rename(columns={'Real Time (s)': 'run_time', 'CPU Time (s)': 'cpu_time', 'Selection Type': 'selection_type'}, inplace=True)\n",
    "\n",
    "# Concatenate all DataFrames, easier to plot after\n",
    "combined_df = pd.concat([consolidating_trie_df, searchtable_df, niave_trie_df])\n",
    "\n",
    "# Define number of tips for each selection type, normalizing\n",
    "num_tips = {'nk_tournamentselection': 17, 'nk_lexicaseselection': 233, 'nk_ecoeaselection': 492}\n",
    "\n",
    "# Normalize run_time and cpu_time by number of tips\n",
    "combined_df['num_tips'] = combined_df['selection_type'].map(num_tips)\n",
    "combined_df['normalized_run_time'] = combined_df['run_time'] / combined_df['num_tips']\n",
    "combined_df['normalized_cpu_time'] = combined_df['cpu_time'] / combined_df['num_tips']\n",
    "\n",
    "# Convert normalized run_time and cpu_time to tips per second\n",
    "combined_df['tips_per_sec_run'] = 1 / combined_df['normalized_run_time']\n",
    "combined_df['tips_per_sec_cpu'] = 1 / combined_df['normalized_cpu_time']\n"
   ]
  },
  {
   "cell_type": "code",
   "execution_count": null,
   "metadata": {},
   "outputs": [],
   "source": [
    "# Create a bar chart to compare average normalized tips per second (real time)\n",
    "avg_tips_per_sec_run = combined_df.groupby('Type')['tips_per_sec_run'].mean().reset_index()\n",
    "\n",
    "def custom_barplot_tips_run(data, x, y):\n",
    "    plt.figure(figsize=(10, 6))\n",
    "    sns.barplot(x=x, y=y, data=data)\n",
    "    plt.title('Comparison of Average Tips per Second for Implementations (Real Time)')\n",
    "    plt.xlabel('Implementation')\n",
    "    plt.ylabel('Average Tips per Second')\n",
    "\n",
    "# Use tp.tee() to call the custom function and save the plot\n",
    "tp.tee(custom_barplot_tips_run, data=avg_tips_per_sec_run, x='Type', y='tips_per_sec_run')\n"
   ]
  },
  {
   "cell_type": "code",
   "execution_count": null,
   "metadata": {},
   "outputs": [],
   "source": [
    "# Create a bar chart to compare average normalized tips per second (CPU time)\n",
    "avg_tips_per_sec_cpu = combined_df.groupby('Type')['tips_per_sec_cpu'].mean().reset_index()\n",
    "\n",
    "def custom_barplot_tips_cpu(data, x, y):\n",
    "    plt.figure(figsize=(10, 6))\n",
    "    sns.barplot(x=x, y=y, data=data)\n",
    "    plt.title('Comparison of Average Tips per Second for Implementations (CPU Time)')\n",
    "    plt.xlabel('Implementation')\n",
    "    plt.ylabel('Average Tips per Second')\n",
    "\n",
    "# Use tp.tee() to call the custom function and save the plot\n",
    "tp.tee(custom_barplot_tips_cpu, data=avg_tips_per_sec_cpu, x='Type', y='tips_per_sec_cpu')\n"
   ]
  }
 ],
 "metadata": {
  "colab": {
   "provenance": []
  },
  "kernelspec": {
   "display_name": "Python 3",
   "name": "python3"
  },
  "language_info": {
   "name": "python"
  }
 },
 "nbformat": 4,
 "nbformat_minor": 0
}
