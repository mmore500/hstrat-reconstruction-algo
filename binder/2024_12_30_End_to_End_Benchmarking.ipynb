{
 "cells": [
  {
   "cell_type": "code",
   "execution_count": null,
   "metadata": {},
   "outputs": [],
   "source": [
    "%pip install teeplot\n",
    "from teeplot import teeplot as tp\n"
   ]
  },
  {
   "cell_type": "code",
   "execution_count": null,
   "metadata": {},
   "outputs": [],
   "source": [
    "import pandas as pd\n",
    "import matplotlib.pyplot as plt\n",
    "import seaborn as sns\n",
    "\n",
    "# OSF identifier\n",
    "data_id = \"9qetu\"\n",
    "\n",
    "# Load CSV file into DataFrame directly from OSF URL\n",
    "data_df = pd.read_csv(f\"https://osf.io/{data_id}/download\")\n",
    "\n",
    "# Rename columns for clarity if needed\n",
    "data_df.rename(columns={\n",
    "    'Head Count': 'head_count',\n",
    "    'Unit': 'unit',\n",
    "    'Time': 'time',\n",
    "    'replicate': 'replicate',\n",
    "    'treatment': 'treatment',\n",
    "    'NTASKS': 'ntasks'\n",
    "}, inplace=True)\n",
    "\n",
    "# Average the data by head_count, unit, and replicate\n",
    "avg_data = data_df.groupby(['head_count', 'unit', 'replicate'])['time'].mean().reset_index()\n"
   ]
  },
  {
   "cell_type": "code",
   "execution_count": null,
   "metadata": {},
   "outputs": [],
   "source": [
    "# time per tip (linear y-axis) vs. number of tips (log x-axis)\n",
    "def time_per_tip_plot(data):\n",
    "    # Calculate time per tip\n",
    "    data['time_per_tip'] = data['time'] / data['head_count']\n",
    "\n",
    "    # Filter the subset for Real Seconds\n",
    "    avg_subset = data[data['unit'] == 'Real Seconds'].groupby(['head_count'])['time_per_tip'].mean().reset_index()\n",
    "\n",
    "    plt.figure(figsize=(15, 8))\n",
    "    sns.lineplot(\n",
    "        data=avg_subset,\n",
    "        x='head_count',\n",
    "        y='time_per_tip',\n",
    "        marker='o',\n",
    "        color=\"purple\"\n",
    "    )\n",
    "\n",
    "    plt.xscale('log')  # Logarithmic scale for the number of tips\n",
    "    plt.title('Time Per Tip vs Number of Tips (Log X-Axis, Linear Y-Axis)')\n",
    "    plt.xlabel('Number of Tips (log scale)')\n",
    "    plt.ylabel('Time Per Tip (linear scale)')\n",
    "    plt.tight_layout()\n",
    "\n",
    "tp.tee(time_per_tip_plot, data=avg_data)\n"
   ]
  }
 ],
 "metadata": {
  "colab": {
   "provenance": []
  },
  "kernelspec": {
   "display_name": "Python 3",
   "name": "python3"
  },
  "language_info": {
   "name": "python"
  }
 },
 "nbformat": 4,
 "nbformat_minor": 0
}
