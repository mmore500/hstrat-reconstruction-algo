{
 "cells": [
  {
   "cell_type": "code",
   "execution_count": null,
   "metadata": {},
   "outputs": [],
   "source": [
    "import pandas as pd\n",
    "import re\n",
    "\n",
    "\n",
    "\n",
    "# OSF identifier\n",
    "data_id = \"hupb2\"\n",
    "\n",
    "# load CSV file into DataFrame directly from OSF URL\n",
    "data_df = pd.read_csv(f\"https://osf.io/{data_id}/download\")\n",
    "\n",
    "# create a column that removes the slice notation\n",
    "def strip_slice_notation(step_name):\n",
    "    # remove any substring like '(1/2)' or '(2/2)'\n",
    "    return re.sub(r'\\(\\d+/\\d+\\)', '', step_name).strip()\n",
    "\n",
    "data_df[\"what_base\"] = data_df[\"what\"].apply(strip_slice_notation)\n",
    "\n",
    "# choose which columns uniquely define a 'group' for combining slices (all for now)\n",
    "group_cols = [\"replicate\", \"what_base\", \"phylo_source_path\", \"revision\", \"dstream_S\", \"dstream_value_bitwidth\", \"num_tips\", \"SLURM_JOB_ID\", \"date\", \"hostname\"]\n",
    "\n",
    "# sum the duration column, could specify others in the future\n",
    "summed_df = (data_df.groupby(group_cols, as_index=False).agg({\"duration (s)\": \"sum\"}))\n",
    "\n",
    "# change name back to 'what'\n",
    "summed_df.rename(columns={\"what_base\": \"what\"}, inplace=True)\n",
    "\n",
    "\n",
    "summed_df\n"
   ]
  }
 ],
 "metadata": {
  "colab": {
   "provenance": []
  },
  "kernelspec": {
   "display_name": "Python 3",
   "name": "python3"
  },
  "language_info": {
   "name": "python"
  }
 },
 "nbformat": 4,
 "nbformat_minor": 0
}
