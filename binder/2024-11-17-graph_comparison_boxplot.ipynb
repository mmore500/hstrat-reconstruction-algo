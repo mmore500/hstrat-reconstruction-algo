{
 "cells": [
  {
   "cell_type": "code",
   "execution_count": null,
   "metadata": {},
   "outputs": [],
   "source": [
    "%pip install teeplot\n",
    "from teeplot import teeplot as tp\n"
   ]
  },
  {
   "cell_type": "code",
   "execution_count": null,
   "metadata": {},
   "outputs": [],
   "source": [
    "import pandas as pd\n",
    "import matplotlib.pyplot as plt\n",
    "import seaborn as sns\n",
    "\n",
    "# Define OSF identifiers\n",
    "consolidating_trie_id = \"85nhu\"\n",
    "searchtable_id = \"6k5jn\"\n",
    "niave_trie_id = \"4egpc\"\n",
    "\n",
    "# Load CSV files into DataFrames directly from OSF URLs\n",
    "consolidating_trie_df = pd.read_csv(f\"https://osf.io/{consolidating_trie_id}/download\")\n",
    "searchtable_df = pd.read_csv(f\"https://osf.io/{searchtable_id}/download\")\n",
    "niave_trie_df = pd.read_csv(f\"https://osf.io/{niave_trie_id}/download\")\n",
    "\n",
    "# Add 'Type' column to each DataFrame\n",
    "consolidating_trie_df['Type'] = 'Consolidating Trie'\n",
    "searchtable_df['Type'] = 'Search Table'\n",
    "niave_trie_df['Type'] = 'Naive Trie'\n",
    "\n",
    "# Rename columns for consistency\n",
    "consolidating_trie_df.rename(columns={'Real Time (s)': 'run_time', 'CPU Time (s)': 'cpu_time', 'Selection Type': 'selection_type'}, inplace=True)\n",
    "searchtable_df.rename(columns={'Real Time (s)': 'run_time', 'CPU Time (s)': 'cpu_time', 'Selection Type': 'selection_type'}, inplace=True)\n",
    "niave_trie_df.rename(columns={'Real Time (s)': 'run_time', 'CPU Time (s)': 'cpu_time', 'Selection Type': 'selection_type'}, inplace=True)\n",
    "\n",
    "# Concatenate all DataFrames\n",
    "combined_df = pd.concat([consolidating_trie_df, searchtable_df, niave_trie_df])\n",
    "\n",
    "# Filter out the upper 1% of percentiles for run_time and cpu_time\n",
    "run_time_threshold = combined_df['run_time'].quantile(0.99)\n",
    "cpu_time_threshold = combined_df['cpu_time'].quantile(0.99)\n",
    "filtered_df = combined_df[(combined_df['run_time'] <= run_time_threshold) & (combined_df['cpu_time'] <= cpu_time_threshold)]\n",
    "\n",
    "# Set Seaborn style\n",
    "sns.set(style='whitegrid')\n"
   ]
  },
  {
   "cell_type": "code",
   "execution_count": null,
   "metadata": {},
   "outputs": [],
   "source": [
    "# Create a boxplot to compare real times\n",
    "\n",
    "def custom_boxplot_real(data,x,y):\n",
    "\n",
    "  plt.figure(figsize=(10, 6))\n",
    "  sns.boxplot(x='Type', y='run_time', data=combined_df, showfliers=False)\n",
    "  plt.title('Comparison of Real Times for Implementations')\n",
    "  plt.xlabel('Implementation')\n",
    "  plt.ylabel('Real Time (s)')\n",
    "\n",
    "\n",
    "# Use tp.tee() to call the custom function and save the plot\n",
    "\n",
    "tp.tee(custom_boxplot_real, data=combined_df, x='Type', y='run_time')\n"
   ]
  },
  {
   "cell_type": "code",
   "execution_count": null,
   "metadata": {},
   "outputs": [],
   "source": [
    "# Create a boxplot to compare CPU times without showing outliers\n",
    "\n",
    "def custom_boxplot_cpu(data,x,y):\n",
    "\n",
    "  plt.figure(figsize=(10, 6))\n",
    "  sns.boxplot(x='Type', y='cpu_time', data=combined_df, showfliers=False)\n",
    "  plt.title('Comparison of CPU Times for Implementations')\n",
    "  plt.xlabel('Implementation')\n",
    "  plt.ylabel('CPU Time (s)')\n",
    "\n",
    "# Use tp.tee() to call the custom function and save the plot\n",
    "tp.tee(custom_boxplot_cpu, data=combined_df, x='Type', y='cpu_time')\n"
   ]
  }
 ],
 "metadata": {
  "colab": {
   "provenance": []
  },
  "kernelspec": {
   "display_name": "Python 3",
   "name": "python3"
  },
  "language_info": {
   "name": "python"
  }
 },
 "nbformat": 4,
 "nbformat_minor": 0
}
