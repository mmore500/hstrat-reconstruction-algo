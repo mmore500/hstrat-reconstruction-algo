{
 "cells": [
  {
   "cell_type": "code",
   "execution_count": null,
   "metadata": {},
   "outputs": [],
   "source": [
    "%load_ext watermark\n"
   ]
  },
  {
   "cell_type": "code",
   "execution_count": null,
   "metadata": {},
   "outputs": [],
   "source": [
    "from downstream import dstream\n",
    "from hstrat import hstrat\n",
    "from hstrat import _auxiliary_lib as hstrat_aux\n",
    "import pandas as pd\n"
   ]
  },
  {
   "cell_type": "code",
   "execution_count": null,
   "metadata": {},
   "outputs": [],
   "source": [
    "%watermark -diwmuv -iv\n"
   ]
  },
  {
   "cell_type": "code",
   "execution_count": null,
   "metadata": {},
   "outputs": [],
   "source": [
    "teeplot_subdir = \"2025-05-09-reconstruction-quality\"\n",
    "teeplot_subdir\n"
   ]
  },
  {
   "cell_type": "markdown",
   "metadata": {},
   "source": [
    "## Prep Data\n"
   ]
  },
  {
   "cell_type": "code",
   "execution_count": null,
   "metadata": {},
   "outputs": [],
   "source": [
    "true_phylo_df = pd.read_csv(\"https://osf.io/ypqvb/download\")\n",
    "raw_genome_df = pd.read_parquet(\"https://osf.io/4x7p8/download\")\n"
   ]
  },
  {
   "cell_type": "code",
   "execution_count": null,
   "metadata": {},
   "outputs": [],
   "source": [
    "true_phylo_df = hstrat_aux.alifestd_prune_extinct_lineages_asexual(\n",
    "    true_phylo_df,\n",
    ")\n",
    "true_phylo_df = hstrat_aux.alifestd_mark_leaves(true_phylo_df)\n",
    "true_phylo_df = hstrat_aux.alifestd_collapse_unifurcations(\n",
    "    true_phylo_df,\n",
    ")\n",
    "true_phylo_df\n"
   ]
  },
  {
   "cell_type": "code",
   "execution_count": null,
   "metadata": {},
   "outputs": [],
   "source": [
    "raw_genome_df = raw_genome_df.loc[\n",
    "    raw_genome_df[\"taxon_label\"].isin(true_phylo_df[\"taxon_label\"])\n",
    "].copy()\n",
    "raw_genome_df\n"
   ]
  },
  {
   "cell_type": "code",
   "execution_count": null,
   "metadata": {},
   "outputs": [],
   "source": [
    "kwargs = dict(\n",
    "    dstream_algo=eval(\n",
    "        raw_genome_df[\"dstream_algo\"].unique().item(),\n",
    "        {\"dstream\": dstream},\n",
    "    ),\n",
    "    dstream_S=raw_genome_df[\"dstream_S\"].unique().item(),\n",
    "    dstream_storage_bitoffset=raw_genome_df[\"dstream_storage_bitoffset\"]\n",
    "    .unique()\n",
    "    .item(),\n",
    "    dstream_storage_bitwidth=raw_genome_df[\"dstream_storage_bitwidth\"]\n",
    "    .unique()\n",
    "    .item(),\n",
    "    dstream_T_bitoffset=raw_genome_df[\"dstream_T_bitoffset\"].unique().item(),\n",
    "    dstream_T_bitwidth=raw_genome_df[\"dstream_T_bitwidth\"].unique().item(),\n",
    ")\n",
    "\n",
    "population = [\n",
    "    hstrat.surf_from_hex(\n",
    "        genome_hex,\n",
    "        **kwargs,\n",
    "    )\n",
    "    for genome_hex in raw_genome_df[\"data_hex\"]\n",
    "]\n",
    "len(population)\n"
   ]
  },
  {
   "cell_type": "markdown",
   "metadata": {},
   "source": [
    "## Naive Reconstruction vs. Ground Truth\n"
   ]
  },
  {
   "cell_type": "code",
   "execution_count": null,
   "metadata": {},
   "outputs": [],
   "source": [
    "naive_df = hstrat.build_tree_trie(\n",
    "    population,\n",
    "    taxon_labels=raw_genome_df[\"taxon_label\"],\n",
    "    force_common_ancestry=True,\n",
    ")\n",
    "naive_df\n"
   ]
  },
  {
   "cell_type": "code",
   "execution_count": null,
   "metadata": {},
   "outputs": [],
   "source": [
    "hstrat_aux.alifestd_estimate_triplet_distance_asexual(\n",
    "    naive_df,\n",
    "    true_phylo_df,\n",
    "    taxon_label_key=\"taxon_label\",\n",
    ")\n"
   ]
  },
  {
   "cell_type": "markdown",
   "metadata": {},
   "source": [
    "## Shortcut Reconstruction vs. Ground Truth\n"
   ]
  },
  {
   "cell_type": "code",
   "execution_count": null,
   "metadata": {},
   "outputs": [],
   "source": [
    "shortcut_df = hstrat.build_tree_searchtable(\n",
    "    population,\n",
    "    taxon_labels=raw_genome_df[\"taxon_label\"],\n",
    "    force_common_ancestry=True,\n",
    ")\n",
    "shortcut_df\n"
   ]
  },
  {
   "cell_type": "code",
   "execution_count": null,
   "metadata": {},
   "outputs": [],
   "source": [
    "hstrat_aux.alifestd_estimate_triplet_distance_asexual(\n",
    "    shortcut_df,\n",
    "    true_phylo_df,\n",
    "    taxon_label_key=\"taxon_label\",\n",
    ")\n"
   ]
  },
  {
   "cell_type": "markdown",
   "metadata": {},
   "source": [
    "## Naive Reconstruction vs. Shortcut Reconstruction\n"
   ]
  },
  {
   "cell_type": "code",
   "execution_count": null,
   "metadata": {},
   "outputs": [],
   "source": [
    "hstrat_aux.alifestd_estimate_triplet_distance_asexual(\n",
    "    shortcut_df,\n",
    "    naive_df,\n",
    "    taxon_label_key=\"taxon_label\",\n",
    ")\n"
   ]
  }
 ],
 "metadata": {
  "kernelspec": {
   "display_name": ".venv",
   "language": "python",
   "name": "python3"
  },
  "language_info": {
   "codemirror_mode": {
    "name": "ipython",
    "version": 3
   },
   "file_extension": ".py",
   "mimetype": "text/x-python",
   "name": "python",
   "nbconvert_exporter": "python",
   "pygments_lexer": "ipython3"
  }
 },
 "nbformat": 4,
 "nbformat_minor": 2
}
